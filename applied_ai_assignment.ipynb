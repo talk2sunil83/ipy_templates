{
 "cells": [
  {
   "cell_type": "markdown",
   "metadata": {},
   "source": [
    "### Imports"
   ]
  },
  {
   "cell_type": "code",
   "execution_count": 3,
   "metadata": {
    "ExecuteTime": {
     "end_time": "2019-04-16T08:12:33.867578Z",
     "start_time": "2019-04-16T08:12:33.862593Z"
    }
   },
   "outputs": [],
   "source": [
    "from IPython.display import Markdown, display\n",
    "import pdb"
   ]
  },
  {
   "cell_type": "markdown",
   "metadata": {
    "ExecuteTime": {
     "end_time": "2019-04-16T08:11:38.598658Z",
     "start_time": "2019-04-16T08:11:38.591708Z"
    }
   },
   "source": [
    "<h3 style='color:#FF5733; font-weight: bold'> Please ignore the below cell, this is just for printing the messages better, assignment is staring next to this cell</h3>"
   ]
  },
  {
   "cell_type": "code",
   "execution_count": 2,
   "metadata": {
    "ExecuteTime": {
     "end_time": "2019-04-16T08:12:31.474920Z",
     "start_time": "2019-04-16T08:12:31.462981Z"
    },
    "code_folding": [
     0,
     5
    ]
   },
   "outputs": [],
   "source": [
    "def printmd(string):\n",
    "    '''Just to print mark down as output in notebook'''\n",
    "    display(Markdown(string))\n",
    "\n",
    "def get_message_string(m_type, message):\n",
    "    if m_type.lower() == 'error':\n",
    "        return f\"<div class='alert alert-danger' role='alert'>{message}</div>\"\n",
    "    elif m_type.lower() == 'warning':\n",
    "        return f\"<div class='alert alert-warning' role='alert'>{message}</div>\"\n",
    "    elif m_type.lower() == 'info':\n",
    "        return f\"<div class='alert alert-info' role='alert'>{message}</div>\"\n",
    "    elif m_type.lower() == 'success':\n",
    "        return f\"<div class='alert alert-success' role='alert'>{message}</div>\"\n",
    "    else:\n",
    "        return f\"<div class='alert alert-light' role='alert'>{message}</div>\"\n",
    "\n",
    "def print_error(message):\n",
    "    printmd(get_message_string('error', message))\n",
    "\n",
    "def print_warning(message):\n",
    "    printmd(get_message_string('warning', message))\n",
    "\n",
    "def print_info(message):\n",
    "    printmd(get_message_string('info', message))\n",
    "\n",
    "def print_success(message):\n",
    "    printmd(get_message_string('success', message))\n",
    "\n",
    "def print_message(message):\n",
    "    printmd(get_message_string(\"\", message=message))"
   ]
  },
  {
   "cell_type": "code",
   "execution_count": null,
   "metadata": {},
   "outputs": [],
   "source": []
  }
 ],
 "metadata": {
  "kernelspec": {
   "display_name": "Python 3",
   "language": "python",
   "name": "python3"
  },
  "language_info": {
   "codemirror_mode": {
    "name": "ipython",
    "version": 3
   },
   "file_extension": ".py",
   "mimetype": "text/x-python",
   "name": "python",
   "nbconvert_exporter": "python",
   "pygments_lexer": "ipython3",
   "version": "3.7.3"
  },
  "toc": {
   "base_numbering": 1,
   "nav_menu": {},
   "number_sections": true,
   "sideBar": false,
   "skip_h1_title": true,
   "title_cell": "Table of Contents",
   "title_sidebar": "Contents",
   "toc_cell": false,
   "toc_position": {},
   "toc_section_display": true,
   "toc_window_display": false
  },
  "varInspector": {
   "cols": {
    "lenName": 16,
    "lenType": 16,
    "lenVar": 40
   },
   "kernels_config": {
    "python": {
     "delete_cmd_postfix": "",
     "delete_cmd_prefix": "del ",
     "library": "var_list.py",
     "varRefreshCmd": "print(var_dic_list())"
    },
    "r": {
     "delete_cmd_postfix": ") ",
     "delete_cmd_prefix": "rm(",
     "library": "var_list.r",
     "varRefreshCmd": "cat(var_dic_list()) "
    }
   },
   "types_to_exclude": [
    "module",
    "function",
    "builtin_function_or_method",
    "instance",
    "_Feature"
   ],
   "window_display": false
  }
 },
 "nbformat": 4,
 "nbformat_minor": 2
}
